{
 "cells": [
  {
   "cell_type": "markdown",
   "metadata": {},
   "source": [
    "# LeNet"
   ]
  },
  {
   "cell_type": "code",
   "execution_count": 1,
   "metadata": {},
   "outputs": [],
   "source": [
    "import torch\n",
    "import torchvision\n",
    "import torchvision.transforms as transforms"
   ]
  },
  {
   "cell_type": "code",
   "execution_count": 2,
   "metadata": {},
   "outputs": [
    {
     "name": "stdout",
     "output_type": "stream",
     "text": [
      "Files already downloaded and verified\n",
      "Files already downloaded and verified\n"
     ]
    }
   ],
   "source": [
    "# load data\n",
    "transform = transforms.Compose(\n",
    "    [transforms.ToTensor(),\n",
    "     transforms.Normalize(mean=[0.485,0.456,0.406],\n",
    "                                std=[0.229,0.224,0.225])\n",
    "    ])\n",
    "trainSet = torchvision.datasets.CIFAR10(root = './data', train=True, \n",
    "                                        download = True, transform = transform)\n",
    "trainLoader = torch.utils.data.DataLoader(trainSet, batch_size=4,\n",
    "                                         shuffle=True, num_workers=2)\n",
    "testSet = torchvision.datasets.CIFAR10(root='./data', train=False,\n",
    "                                      download=True,transform = transform)\n",
    "testLoader = torch.utils.data.DataLoader(testSet, batch_size=4,\n",
    "                                        shuffle=False, num_workers=2)\n",
    "\n",
    "classes = ['plane', 'car', 'bird', 'cat', 'deer', 'dog', 'fog', \n",
    "          'horse', 'ship', 'truck']"
   ]
  },
  {
   "cell_type": "code",
   "execution_count": 3,
   "metadata": {},
   "outputs": [
    {
     "name": "stderr",
     "output_type": "stream",
     "text": [
      "Clipping input data to the valid range for imshow with RGB data ([0..1] for floats or [0..255] for integers).\n"
     ]
    },
    {
     "data": {
      "text/plain": [
       "<Figure size 640x480 with 1 Axes>"
      ]
     },
     "metadata": {},
     "output_type": "display_data"
    }
   ],
   "source": [
    "import matplotlib.pyplot as plt\n",
    "import numpy as np\n",
    "img = torchvision.utils.make_grid(trainSet[1][0]).numpy()\n",
    "plt.imshow(np.transpose(img,(1,2,0)))\n",
    "plt.show()"
   ]
  },
  {
   "cell_type": "code",
   "execution_count": 4,
   "metadata": {},
   "outputs": [],
   "source": [
    "import torch.nn as nn\n",
    "class LeNet(nn.Module):\n",
    "    \"\"\"\n",
    "    Input: 3x32x32\n",
    "    conv1: 5x5kernel          -> 6x1x28x28\n",
    "    pool1: 2x2kernel stride=2 -> 6x1x14x14\n",
    "    conv2: 5x5kernel          -> 16x1x10x10\n",
    "    pool2: 2x2kernel stride=2 -> 16x1x5x5\n",
    "    conv3: 5x5kernel          -> 120x1x1x1\n",
    "    fc1:   84\n",
    "    fc2:   10\n",
    "    \"\"\"\n",
    "    def __init__(self):\n",
    "        super(LeNet, self).__init__()\n",
    "        \n",
    "        self.conv = nn.Sequential(\n",
    "        nn.Conv2d(3, 6, kernel_size=(5,5)),\n",
    "        nn.ReLU(),\n",
    "        nn.MaxPool2d(kernel_size=(2,2), stride=2),\n",
    "        nn.Conv2d(6, 16, kernel_size=(5,5)),\n",
    "        nn.ReLU(),\n",
    "        nn.MaxPool2d(kernel_size=(2,2), stride=2),\n",
    "        nn.Conv2d(16, 120, kernel_size=(5,5)),\n",
    "        nn.ReLU()\n",
    "        )\n",
    "        \n",
    "        self.fc = nn.Sequential(\n",
    "        nn.Linear(120, 84),\n",
    "        nn.ReLU(),\n",
    "        nn.Linear(84,10),\n",
    "        nn.LogSoftmax(dim=-1)\n",
    "        )\n",
    "    \n",
    "    def forward(self, img):\n",
    "        output = self.conv(img)\n",
    "        output = output.view(img.size(0), -1)\n",
    "        output = self.fc(output)\n",
    "        return output\n",
    "            "
   ]
  },
  {
   "cell_type": "code",
   "execution_count": 5,
   "metadata": {},
   "outputs": [],
   "source": [
    "def evaluate(model, loader):\n",
    "    correct = 0\n",
    "    total = len(loader.dataset)\n",
    "    for x,y in loader:\n",
    "        with torch.no_grad():\n",
    "            logits = model(x)\n",
    "            pred = logits.argmax(dim=1)\n",
    "        correct += torch.eq(pred,y).sum().float().item()\n",
    "    return correct/total"
   ]
  },
  {
   "cell_type": "code",
   "execution_count": 6,
   "metadata": {},
   "outputs": [
    {
     "name": "stdout",
     "output_type": "stream",
     "text": [
      "epoch: 0 val_acc: 0.5068\n",
      "epoch: 1 val_acc: 0.5391\n",
      "epoch: 2 val_acc: 0.5762\n",
      "epoch: 3 val_acc: 0.5994\n",
      "epoch: 4 val_acc: 0.6\n",
      "epoch: 5 val_acc: 0.6093\n",
      "epoch: 6 val_acc: 0.6159\n",
      "epoch: 7 val_acc: 0.6041\n",
      "epoch: 8 val_acc: 0.6059\n",
      "epoch: 9 val_acc: 0.6188\n"
     ]
    }
   ],
   "source": [
    "import torch.optim as optim\n",
    "net = LeNet()\n",
    "criterion = nn.CrossEntropyLoss()\n",
    "optimizer = optim.Adam(net.parameters(), lr = 1e-3)\n",
    "\n",
    "for epoch in range(10):\n",
    "    for step,(x,y) in enumerate(trainLoader):\n",
    "        output = net(x)\n",
    "        loss = criterion(output, y)\n",
    "        \n",
    "        optimizer.zero_grad()\n",
    "        loss.backward()\n",
    "        optimizer.step()\n",
    "    val_acc = evaluate(net, testLoader)\n",
    "    print(\"epoch:\", epoch,\"val_acc:\",val_acc)\n",
    "\n",
    "torch.save(net.state_dict(), 'model.mdl')"
   ]
  },
  {
   "cell_type": "code",
   "execution_count": 7,
   "metadata": {},
   "outputs": [
    {
     "data": {
      "image/png": "[encoded data removed]",
      "text/plain": [
       "<Figure size 432x288 with 4 Axes>"
      ]
     },
     "metadata": {},
     "output_type": "display_data"
    }
   ],
   "source": [
    "def plot_image(img, label, name):\n",
    "\n",
    "    fig = plt.figure()\n",
    "    for i in range(4):\n",
    "        img[i] = denormalize(img[i])\n",
    "        plt.subplot(2, 3, i + 1)\n",
    "        plt.tight_layout()\n",
    "        plt.imshow(np.transpose(img[i],(1,2,0)), interpolation='none')\n",
    "        plt.title(\"{}: {}\".format(name, classes[label[i].item()]))\n",
    "        plt.xticks([])\n",
    "        plt.yticks([])\n",
    "    plt.show()\n",
    "    \n",
    "def denormalize(x_hat):\n",
    "        mean=[0.485,0.456,0.406]\n",
    "        std=[0.229,0.224,0.225]\n",
    "        \n",
    "        mean = torch.tensor(mean).unsqueeze(1).unsqueeze(1)\n",
    "        std = torch.tensor(std).unsqueeze(1).unsqueeze(1)        \n",
    "        x = x_hat*std+mean\n",
    "        return x\n",
    "    \n",
    "x, y = next(iter(testLoader))\n",
    "out = net(x)\n",
    "pred = out.argmax(dim=1).numpy()\n",
    "plot_image(x, pred, 'test')"
   ]
  },
  {
   "cell_type": "code",
   "execution_count": 8,
   "metadata": {},
   "outputs": [
    {
     "name": "stdout",
     "output_type": "stream",
     "text": [
      "1.2.0\n"
     ]
    }
   ],
   "source": [
    "print(torch.__version__)"
   ]
  },
  {
   "cell_type": "code",
   "execution_count": null,
   "metadata": {},
   "outputs": [],
   "source": []
  }
 ],
 "metadata": {
  "kernelspec": {
   "display_name": "Python [conda env:dl] *",
   "language": "python",
   "name": "conda-env-dl-py"
  },
  "language_info": {
   "codemirror_mode": {
    "name": "ipython",
    "version": 3
   },
   "file_extension": ".py",
   "mimetype": "text/x-python",
   "name": "python",
   "nbconvert_exporter": "python",
   "pygments_lexer": "ipython3",
   "version": "3.7.4"
  }
 },
 "nbformat": 4,
 "nbformat_minor": 2
}
